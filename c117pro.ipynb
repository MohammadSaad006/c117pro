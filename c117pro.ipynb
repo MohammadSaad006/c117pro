{
  "nbformat": 4,
  "nbformat_minor": 0,
  "metadata": {
    "colab": {
      "name": "c117pro",
      "provenance": [],
      "collapsed_sections": [],
      "authorship_tag": "ABX9TyNc6hDvhZiWQOePKpZEtAxM",
      "include_colab_link": true
    },
    "kernelspec": {
      "name": "python3",
      "display_name": "Python 3"
    },
    "language_info": {
      "name": "python"
    }
  },
  "cells": [
    {
      "cell_type": "markdown",
      "metadata": {
        "id": "view-in-github",
        "colab_type": "text"
      },
      "source": [
        "<a href=\"https://colab.research.google.com/github/MohammadSaad006/c117pro/blob/main/c117pro.ipynb\" target=\"_parent\"><img src=\"https://colab.research.google.com/assets/colab-badge.svg\" alt=\"Open In Colab\"/></a>"
      ]
    },
    {
      "cell_type": "code",
      "execution_count": 13,
      "metadata": {
        "colab": {
          "base_uri": "https://localhost:8080/"
        },
        "id": "mgzv01ecw5VM",
        "outputId": "72648561-778c-48c9-c657-a1ca56bd4f7e"
      },
      "outputs": [
        {
          "output_type": "stream",
          "name": "stdout",
          "text": [
            "   variance  skewness  curtosis  entropy  class\n",
            "0   3.62160    8.6661   -2.8073 -0.44699      0\n",
            "1   4.54590    8.1674   -2.4586 -1.46210      0\n",
            "2   3.86600   -2.6383    1.9242  0.10645      0\n",
            "3   3.45660    9.5228   -4.0112 -3.59440      0\n",
            "4   0.32924   -4.4552    4.5718 -0.98880      0\n"
          ]
        }
      ],
      "source": [
        "import pandas as pd\n",
        "df= pd.read_csv(\"https://raw.githubusercontent.com/whitehatjr/datasets/master/c117/BankNote_Authentication.csv\")\n",
        "print(df.head())"
      ]
    },
    {
      "cell_type": "code",
      "source": [
        "from sklearn.model_selection import train_test_split\n",
        "variance= df[\"variance\"]\n",
        "Class = df[\"class\"]\n",
        "\n",
        "variance_train,variance_test,class_train,class_test= train_test_split(variance,Class,test_size=0.25,random_state=0)\n",
        "from sklearn.linear_model import LogisticRegression\n",
        "import numpy as np\n",
        "\n",
        "X=np.reshape(variance_train.ravel(),(len(variance_train),1))\n",
        "Y= np.reshape(class_train.ravel(),(len(class_train),1))\n",
        "\n",
        "classifier=LogisticRegression(random_state=0)\n",
        "classifier.fit(X,Y)"
      ],
      "metadata": {
        "colab": {
          "base_uri": "https://localhost:8080/"
        },
        "id": "k99ToZ-S1qOJ",
        "outputId": "2fe77043-1952-40a9-e672-deaf9fe439f2"
      },
      "execution_count": 14,
      "outputs": [
        {
          "output_type": "stream",
          "name": "stderr",
          "text": [
            "/usr/local/lib/python3.7/dist-packages/sklearn/utils/validation.py:993: DataConversionWarning: A column-vector y was passed when a 1d array was expected. Please change the shape of y to (n_samples, ), for example using ravel().\n",
            "  y = column_or_1d(y, warn=True)\n"
          ]
        },
        {
          "output_type": "execute_result",
          "data": {
            "text/plain": [
              "LogisticRegression(random_state=0)"
            ]
          },
          "metadata": {},
          "execution_count": 14
        }
      ]
    },
    {
      "cell_type": "code",
      "source": [
        "xTest = np.reshape(variance_test.ravel(), (len(variance_test), 1))\n",
        "yTest = np.reshape(class_test.ravel(), (len(class_test), 1))\n",
        "\n",
        "prediction = classifier.predict(xTest)\n",
        "predictvalues = []\n",
        "\n",
        "for i in prediction:\n",
        "  if i == 0:\n",
        "    predictvalues.append(\"NO\")\n",
        "  \n",
        "  else:\n",
        "    predictvalues.append(\"Yes\")\n",
        "\n",
        "actualValues = []\n",
        "\n",
        "for i in yTest.ravel():\n",
        "  if i == 0:\n",
        "    actualValues.append(\"NO\")\n",
        "  \n",
        "  else:\n",
        "    actualValues.append(\"Yes\")\n",
        "print(predictvalues)"
      ],
      "metadata": {
        "colab": {
          "base_uri": "https://localhost:8080/"
        },
        "id": "SooWN2705Tab",
        "outputId": "dab03c43-9772-4c36-e2ff-79cffc37cd95"
      },
      "execution_count": 15,
      "outputs": [
        {
          "output_type": "stream",
          "name": "stdout",
          "text": [
            "['Yes', 'NO', 'Yes', 'NO', 'NO', 'NO', 'Yes', 'NO', 'Yes', 'Yes', 'NO', 'NO', 'Yes', 'NO', 'NO', 'NO', 'Yes', 'NO', 'NO', 'NO', 'Yes', 'NO', 'NO', 'Yes', 'Yes', 'Yes', 'NO', 'Yes', 'NO', 'NO', 'Yes', 'NO', 'Yes', 'Yes', 'Yes', 'NO', 'NO', 'Yes', 'Yes', 'Yes', 'NO', 'Yes', 'NO', 'Yes', 'Yes', 'Yes', 'NO', 'NO', 'Yes', 'NO', 'NO', 'Yes', 'Yes', 'Yes', 'Yes', 'NO', 'Yes', 'Yes', 'Yes', 'Yes', 'NO', 'Yes', 'NO', 'NO', 'NO', 'Yes', 'Yes', 'Yes', 'NO', 'NO', 'NO', 'NO', 'Yes', 'Yes', 'Yes', 'Yes', 'NO', 'NO', 'NO', 'NO', 'Yes', 'Yes', 'NO', 'NO', 'Yes', 'Yes', 'NO', 'NO', 'NO', 'NO', 'NO', 'Yes', 'Yes', 'NO', 'Yes', 'NO', 'NO', 'NO', 'Yes', 'Yes', 'NO', 'Yes', 'NO', 'NO', 'NO', 'Yes', 'NO', 'Yes', 'Yes', 'Yes', 'NO', 'Yes', 'NO', 'NO', 'Yes', 'NO', 'NO', 'NO', 'Yes', 'Yes', 'NO', 'NO', 'Yes', 'Yes', 'NO', 'Yes', 'Yes', 'NO', 'NO', 'NO', 'NO', 'NO', 'NO', 'Yes', 'NO', 'Yes', 'NO', 'NO', 'NO', 'NO', 'Yes', 'NO', 'Yes', 'Yes', 'NO', 'NO', 'NO', 'NO', 'NO', 'Yes', 'NO', 'NO', 'NO', 'NO', 'Yes', 'NO', 'NO', 'NO', 'Yes', 'Yes', 'NO', 'Yes', 'Yes', 'Yes', 'NO', 'Yes', 'Yes', 'NO', 'Yes', 'Yes', 'NO', 'Yes', 'Yes', 'NO', 'Yes', 'NO', 'NO', 'NO', 'Yes', 'NO', 'Yes', 'Yes', 'Yes', 'Yes', 'NO', 'Yes', 'NO', 'Yes', 'Yes', 'Yes', 'Yes', 'NO', 'NO', 'NO', 'Yes', 'NO', 'NO', 'Yes', 'Yes', 'NO', 'NO', 'NO', 'NO', 'NO', 'NO', 'Yes', 'NO', 'NO', 'NO', 'NO', 'NO', 'Yes', 'NO', 'NO', 'NO', 'Yes', 'NO', 'NO', 'NO', 'NO', 'NO', 'NO', 'NO', 'NO', 'NO', 'Yes', 'NO', 'NO', 'Yes', 'Yes', 'NO', 'Yes', 'Yes', 'NO', 'Yes', 'NO', 'NO', 'NO', 'Yes', 'Yes', 'NO', 'Yes', 'Yes', 'NO', 'NO', 'NO', 'NO', 'Yes', 'NO', 'NO', 'Yes', 'Yes', 'Yes', 'Yes', 'Yes', 'NO', 'NO', 'NO', 'Yes', 'NO', 'NO', 'NO', 'NO', 'Yes', 'NO', 'NO', 'Yes', 'NO', 'NO', 'Yes', 'Yes', 'NO', 'Yes', 'NO', 'Yes', 'Yes', 'Yes', 'Yes', 'Yes', 'NO', 'Yes', 'Yes', 'Yes', 'NO', 'NO', 'NO', 'NO', 'Yes', 'NO', 'Yes', 'Yes', 'NO', 'NO', 'Yes', 'NO', 'NO', 'NO', 'NO', 'Yes', 'NO', 'NO', 'Yes', 'NO', 'Yes', 'Yes', 'NO', 'NO', 'NO', 'NO', 'NO', 'NO', 'NO', 'Yes', 'NO', 'NO', 'Yes', 'Yes', 'Yes', 'NO', 'NO', 'NO', 'Yes', 'NO', 'NO', 'NO', 'Yes', 'NO', 'Yes', 'Yes', 'NO', 'NO', 'NO', 'Yes', 'NO', 'NO', 'Yes', 'NO', 'NO', 'Yes', 'NO', 'NO', 'NO', 'NO']\n"
          ]
        }
      ]
    },
    {
      "cell_type": "code",
      "source": [
        "from sklearn.metrics import confusion_matrix \n",
        "import seaborn as sns \n",
        "import matplotlib.pyplot as plt\n",
        "labels=[\"yes\",\"No\"]\n",
        "cm=confusion_matrix(actualValues,predictvalues)\n",
        "\n",
        "ax= plt.subplot() \n",
        "sns.heatmap(cm, annot=True, ax = ax) \n",
        "ax.set_xlabel('Predicted') \n",
        "ax.set_ylabel('Actual') \n",
        "ax.set_title('Confusion Matrix') \n",
        "ax.xaxis.set_ticklabels(labels)\n",
        "ax.yaxis.set_ticklabels(labels)"
      ],
      "metadata": {
        "colab": {
          "base_uri": "https://localhost:8080/",
          "height": 312
        },
        "id": "m_4G8SKN7jx8",
        "outputId": "9f1cd9ae-51ec-432d-e33b-0d2ba10ab900"
      },
      "execution_count": 16,
      "outputs": [
        {
          "output_type": "execute_result",
          "data": {
            "text/plain": [
              "[Text(0, 0.5, 'yes'), Text(0, 1.5, 'No')]"
            ]
          },
          "metadata": {},
          "execution_count": 16
        },
        {
          "output_type": "display_data",
          "data": {
            "image/png": "[encoded data removed]",
            "text/plain": [
              "<Figure size 432x288 with 2 Axes>"
            ]
          },
          "metadata": {
            "needs_background": "light"
          }
        }
      ]
    },
    {
      "cell_type": "code",
      "source": [
        "accuracy = (1.7e+02 +1.2e+02)/(1.7e+02 +1.2e+02 + 29 + 27)\n",
        "print(accuracy)"
      ],
      "metadata": {
        "colab": {
          "base_uri": "https://localhost:8080/"
        },
        "id": "b3nIBn7q79pE",
        "outputId": "c73c8108-a374-47c9-aace-3515117a3b68"
      },
      "execution_count": 18,
      "outputs": [
        {
          "output_type": "stream",
          "name": "stdout",
          "text": [
            "0.838150289017341\n"
          ]
        }
      ]
    }
  ]
}